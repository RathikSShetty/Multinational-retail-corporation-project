{
 "cells": [
  {
   "attachments": {},
   "cell_type": "markdown",
   "id": "ebca3c48",
   "metadata": {},
   "source": [
    "# Business Case study : Multinational retail corporation_data"
   ]
  },
  {
   "cell_type": "markdown",
   "id": "f6031645",
   "metadata": {},
   "source": [
    "# Importing all the libraries for analyzing the case study"
   ]
  },
  {
   "cell_type": "code",
   "execution_count": 1,
   "id": "9efc317f",
   "metadata": {},
   "outputs": [],
   "source": [
    "import pandas as pd\n",
    "import numpy as np\n",
    "import matplotlib.pyplot as plt\n",
    "import seaborn as sns\n",
    "from scipy.stats import norm\n",
    "from scipy.stats import poisson\n",
    "from scipy.stats import binom\n",
    "import scipy.stats as stats\n",
    "import math"
   ]
  },
  {
   "cell_type": "markdown",
   "id": "0abfa177",
   "metadata": {},
   "source": [
    "# Defining Problem Statement and Analyzing basic metrics"
   ]
  },
  {
   "cell_type": "markdown",
   "id": "014a56b4",
   "metadata": {},
   "source": [
    "# Problem Statement\n",
    "The Management team in the company Inc. wants to analyze the customer purchase behavior (specifically, purchase amount) \n",
    "against the customer’s gender and the various other factors to help the business make better decisions. \n",
    "They want to understand if the spending habits differ between male and female customers: \n",
    "Do women spend more on Black Friday than men? (Assume 50 million customers are male and 50 million are female)."
   ]
  },
  {
   "cell_type": "code",
   "execution_count": 2,
   "id": "47e2992f",
   "metadata": {},
   "outputs": [
    {
     "data": {
      "text/html": [
       "<div>\n",
       "<style scoped>\n",
       "    .dataframe tbody tr th:only-of-type {\n",
       "        vertical-align: middle;\n",
       "    }\n",
       "\n",
       "    .dataframe tbody tr th {\n",
       "        vertical-align: top;\n",
       "    }\n",
       "\n",
       "    .dataframe thead th {\n",
       "        text-align: right;\n",
       "    }\n",
       "</style>\n",
       "<table border=\"1\" class=\"dataframe\">\n",
       "  <thead>\n",
       "    <tr style=\"text-align: right;\">\n",
       "      <th></th>\n",
       "      <th>User_ID</th>\n",
       "      <th>Product_ID</th>\n",
       "      <th>Gender</th>\n",
       "      <th>Age</th>\n",
       "      <th>Occupation</th>\n",
       "      <th>City_Category</th>\n",
       "      <th>Stay_In_Current_City_Years</th>\n",
       "      <th>Marital_Status</th>\n",
       "      <th>Product_Category</th>\n",
       "      <th>Purchase</th>\n",
       "    </tr>\n",
       "  </thead>\n",
       "  <tbody>\n",
       "    <tr>\n",
       "      <th>0</th>\n",
       "      <td>1000001</td>\n",
       "      <td>P00069042</td>\n",
       "      <td>F</td>\n",
       "      <td>0-17</td>\n",
       "      <td>10</td>\n",
       "      <td>A</td>\n",
       "      <td>2</td>\n",
       "      <td>0</td>\n",
       "      <td>3</td>\n",
       "      <td>8370</td>\n",
       "    </tr>\n",
       "    <tr>\n",
       "      <th>1</th>\n",
       "      <td>1000001</td>\n",
       "      <td>P00248942</td>\n",
       "      <td>F</td>\n",
       "      <td>0-17</td>\n",
       "      <td>10</td>\n",
       "      <td>A</td>\n",
       "      <td>2</td>\n",
       "      <td>0</td>\n",
       "      <td>1</td>\n",
       "      <td>15200</td>\n",
       "    </tr>\n",
       "    <tr>\n",
       "      <th>2</th>\n",
       "      <td>1000001</td>\n",
       "      <td>P00087842</td>\n",
       "      <td>F</td>\n",
       "      <td>0-17</td>\n",
       "      <td>10</td>\n",
       "      <td>A</td>\n",
       "      <td>2</td>\n",
       "      <td>0</td>\n",
       "      <td>12</td>\n",
       "      <td>1422</td>\n",
       "    </tr>\n",
       "    <tr>\n",
       "      <th>3</th>\n",
       "      <td>1000001</td>\n",
       "      <td>P00085442</td>\n",
       "      <td>F</td>\n",
       "      <td>0-17</td>\n",
       "      <td>10</td>\n",
       "      <td>A</td>\n",
       "      <td>2</td>\n",
       "      <td>0</td>\n",
       "      <td>12</td>\n",
       "      <td>1057</td>\n",
       "    </tr>\n",
       "    <tr>\n",
       "      <th>4</th>\n",
       "      <td>1000002</td>\n",
       "      <td>P00285442</td>\n",
       "      <td>M</td>\n",
       "      <td>55+</td>\n",
       "      <td>16</td>\n",
       "      <td>C</td>\n",
       "      <td>4+</td>\n",
       "      <td>0</td>\n",
       "      <td>8</td>\n",
       "      <td>7969</td>\n",
       "    </tr>\n",
       "    <tr>\n",
       "      <th>...</th>\n",
       "      <td>...</td>\n",
       "      <td>...</td>\n",
       "      <td>...</td>\n",
       "      <td>...</td>\n",
       "      <td>...</td>\n",
       "      <td>...</td>\n",
       "      <td>...</td>\n",
       "      <td>...</td>\n",
       "      <td>...</td>\n",
       "      <td>...</td>\n",
       "    </tr>\n",
       "    <tr>\n",
       "      <th>550063</th>\n",
       "      <td>1006033</td>\n",
       "      <td>P00372445</td>\n",
       "      <td>M</td>\n",
       "      <td>51-55</td>\n",
       "      <td>13</td>\n",
       "      <td>B</td>\n",
       "      <td>1</td>\n",
       "      <td>1</td>\n",
       "      <td>20</td>\n",
       "      <td>368</td>\n",
       "    </tr>\n",
       "    <tr>\n",
       "      <th>550064</th>\n",
       "      <td>1006035</td>\n",
       "      <td>P00375436</td>\n",
       "      <td>F</td>\n",
       "      <td>26-35</td>\n",
       "      <td>1</td>\n",
       "      <td>C</td>\n",
       "      <td>3</td>\n",
       "      <td>0</td>\n",
       "      <td>20</td>\n",
       "      <td>371</td>\n",
       "    </tr>\n",
       "    <tr>\n",
       "      <th>550065</th>\n",
       "      <td>1006036</td>\n",
       "      <td>P00375436</td>\n",
       "      <td>F</td>\n",
       "      <td>26-35</td>\n",
       "      <td>15</td>\n",
       "      <td>B</td>\n",
       "      <td>4+</td>\n",
       "      <td>1</td>\n",
       "      <td>20</td>\n",
       "      <td>137</td>\n",
       "    </tr>\n",
       "    <tr>\n",
       "      <th>550066</th>\n",
       "      <td>1006038</td>\n",
       "      <td>P00375436</td>\n",
       "      <td>F</td>\n",
       "      <td>55+</td>\n",
       "      <td>1</td>\n",
       "      <td>C</td>\n",
       "      <td>2</td>\n",
       "      <td>0</td>\n",
       "      <td>20</td>\n",
       "      <td>365</td>\n",
       "    </tr>\n",
       "    <tr>\n",
       "      <th>550067</th>\n",
       "      <td>1006039</td>\n",
       "      <td>P00371644</td>\n",
       "      <td>F</td>\n",
       "      <td>46-50</td>\n",
       "      <td>0</td>\n",
       "      <td>B</td>\n",
       "      <td>4+</td>\n",
       "      <td>1</td>\n",
       "      <td>20</td>\n",
       "      <td>490</td>\n",
       "    </tr>\n",
       "  </tbody>\n",
       "</table>\n",
       "<p>550068 rows × 10 columns</p>\n",
       "</div>"
      ],
      "text/plain": [
       "        User_ID Product_ID Gender    Age  Occupation City_Category  \\\n",
       "0       1000001  P00069042      F   0-17          10             A   \n",
       "1       1000001  P00248942      F   0-17          10             A   \n",
       "2       1000001  P00087842      F   0-17          10             A   \n",
       "3       1000001  P00085442      F   0-17          10             A   \n",
       "4       1000002  P00285442      M    55+          16             C   \n",
       "...         ...        ...    ...    ...         ...           ...   \n",
       "550063  1006033  P00372445      M  51-55          13             B   \n",
       "550064  1006035  P00375436      F  26-35           1             C   \n",
       "550065  1006036  P00375436      F  26-35          15             B   \n",
       "550066  1006038  P00375436      F    55+           1             C   \n",
       "550067  1006039  P00371644      F  46-50           0             B   \n",
       "\n",
       "       Stay_In_Current_City_Years  Marital_Status  Product_Category  Purchase  \n",
       "0                               2               0                 3      8370  \n",
       "1                               2               0                 1     15200  \n",
       "2                               2               0                12      1422  \n",
       "3                               2               0                12      1057  \n",
       "4                              4+               0                 8      7969  \n",
       "...                           ...             ...               ...       ...  \n",
       "550063                          1               1                20       368  \n",
       "550064                          3               0                20       371  \n",
       "550065                         4+               1                20       137  \n",
       "550066                          2               0                20       365  \n",
       "550067                         4+               1                20       490  \n",
       "\n",
       "[550068 rows x 10 columns]"
      ]
     },
     "execution_count": 2,
     "metadata": {},
     "output_type": "execute_result"
    }
   ],
   "source": [
    "df = pd.read_csv('Multinational retail corporation_data.csv')\n",
    "df"
   ]
  },
  {
   "cell_type": "code",
   "execution_count": 3,
   "id": "67935ac8",
   "metadata": {},
   "outputs": [
    {
     "data": {
      "text/plain": [
       "(550068, 10)"
      ]
     },
     "execution_count": 3,
     "metadata": {},
     "output_type": "execute_result"
    }
   ],
   "source": [
    "df.shape"
   ]
  },
  {
   "cell_type": "markdown",
   "id": "29fc0753",
   "metadata": {},
   "source": [
    "Above dataset contains 550068 rows and 10 columns"
   ]
  },
  {
   "cell_type": "code",
   "execution_count": 4,
   "id": "6a6263a7",
   "metadata": {},
   "outputs": [
    {
     "name": "stdout",
     "output_type": "stream",
     "text": [
      "<class 'pandas.core.frame.DataFrame'>\n",
      "RangeIndex: 550068 entries, 0 to 550067\n",
      "Data columns (total 10 columns):\n",
      " #   Column                      Non-Null Count   Dtype \n",
      "---  ------                      --------------   ----- \n",
      " 0   User_ID                     550068 non-null  int64 \n",
      " 1   Product_ID                  550068 non-null  object\n",
      " 2   Gender                      550068 non-null  object\n",
      " 3   Age                         550068 non-null  object\n",
      " 4   Occupation                  550068 non-null  int64 \n",
      " 5   City_Category               550068 non-null  object\n",
      " 6   Stay_In_Current_City_Years  550068 non-null  object\n",
      " 7   Marital_Status              550068 non-null  int64 \n",
      " 8   Product_Category            550068 non-null  int64 \n",
      " 9   Purchase                    550068 non-null  int64 \n",
      "dtypes: int64(5), object(5)\n",
      "memory usage: 42.0+ MB\n"
     ]
    }
   ],
   "source": [
    "df.info()"
   ]
  },
  {
   "cell_type": "code",
   "execution_count": 5,
   "id": "e8dc771b",
   "metadata": {},
   "outputs": [
    {
     "data": {
      "text/plain": [
       "User_ID                       0\n",
       "Product_ID                    0\n",
       "Gender                        0\n",
       "Age                           0\n",
       "Occupation                    0\n",
       "City_Category                 0\n",
       "Stay_In_Current_City_Years    0\n",
       "Marital_Status                0\n",
       "Product_Category              0\n",
       "Purchase                      0\n",
       "dtype: int64"
      ]
     },
     "execution_count": 5,
     "metadata": {},
     "output_type": "execute_result"
    }
   ],
   "source": [
    "df.isna().sum()"
   ]
  },
  {
   "cell_type": "markdown",
   "id": "e40e354d",
   "metadata": {},
   "source": [
    "# Insight as follows : The above dataset contain zero Null values. No Missing values."
   ]
  },
  {
   "cell_type": "markdown",
   "id": "a318f3de",
   "metadata": {},
   "source": [
    "Converting numerical datatype to categorical datatype\n",
    "Changing the datatype of Occupation, Marital_Status & Product_Category "
   ]
  },
  {
   "cell_type": "code",
   "execution_count": 6,
   "id": "a79b3767",
   "metadata": {},
   "outputs": [
    {
     "data": {
      "text/plain": [
       "User_ID                        int64\n",
       "Product_ID                    object\n",
       "Gender                        object\n",
       "Age                           object\n",
       "Occupation                    object\n",
       "City_Category                 object\n",
       "Stay_In_Current_City_Years    object\n",
       "Marital_Status                object\n",
       "Product_Category              object\n",
       "Purchase                       int64\n",
       "dtype: object"
      ]
     },
     "execution_count": 6,
     "metadata": {},
     "output_type": "execute_result"
    }
   ],
   "source": [
    "# Changing datatype int64 to object\n",
    "columns = ['Occupation','Marital_Status','Product_Category']\n",
    "df[columns] = df[columns].astype('object')\n",
    "df.dtypes"
   ]
  },
  {
   "cell_type": "code",
   "execution_count": 7,
   "id": "eb3eed4c",
   "metadata": {},
   "outputs": [
    {
     "data": {
      "text/html": [
       "<div>\n",
       "<style scoped>\n",
       "    .dataframe tbody tr th:only-of-type {\n",
       "        vertical-align: middle;\n",
       "    }\n",
       "\n",
       "    .dataframe tbody tr th {\n",
       "        vertical-align: top;\n",
       "    }\n",
       "\n",
       "    .dataframe thead th {\n",
       "        text-align: right;\n",
       "    }\n",
       "</style>\n",
       "<table border=\"1\" class=\"dataframe\">\n",
       "  <thead>\n",
       "    <tr style=\"text-align: right;\">\n",
       "      <th></th>\n",
       "      <th>User_ID</th>\n",
       "      <th>Product_ID</th>\n",
       "      <th>Gender</th>\n",
       "      <th>Age</th>\n",
       "      <th>Occupation</th>\n",
       "      <th>City_Category</th>\n",
       "      <th>Stay_In_Current_City_Years</th>\n",
       "      <th>Marital_Status</th>\n",
       "      <th>Product_Category</th>\n",
       "      <th>Purchase</th>\n",
       "    </tr>\n",
       "  </thead>\n",
       "  <tbody>\n",
       "    <tr>\n",
       "      <th>count</th>\n",
       "      <td>5.500680e+05</td>\n",
       "      <td>550068</td>\n",
       "      <td>550068</td>\n",
       "      <td>550068</td>\n",
       "      <td>550068.0</td>\n",
       "      <td>550068</td>\n",
       "      <td>550068</td>\n",
       "      <td>550068.0</td>\n",
       "      <td>550068.0</td>\n",
       "      <td>550068.000000</td>\n",
       "    </tr>\n",
       "    <tr>\n",
       "      <th>unique</th>\n",
       "      <td>NaN</td>\n",
       "      <td>3631</td>\n",
       "      <td>2</td>\n",
       "      <td>7</td>\n",
       "      <td>21.0</td>\n",
       "      <td>3</td>\n",
       "      <td>5</td>\n",
       "      <td>2.0</td>\n",
       "      <td>20.0</td>\n",
       "      <td>NaN</td>\n",
       "    </tr>\n",
       "    <tr>\n",
       "      <th>top</th>\n",
       "      <td>NaN</td>\n",
       "      <td>P00265242</td>\n",
       "      <td>M</td>\n",
       "      <td>26-35</td>\n",
       "      <td>4.0</td>\n",
       "      <td>B</td>\n",
       "      <td>1</td>\n",
       "      <td>0.0</td>\n",
       "      <td>5.0</td>\n",
       "      <td>NaN</td>\n",
       "    </tr>\n",
       "    <tr>\n",
       "      <th>freq</th>\n",
       "      <td>NaN</td>\n",
       "      <td>1880</td>\n",
       "      <td>414259</td>\n",
       "      <td>219587</td>\n",
       "      <td>72308.0</td>\n",
       "      <td>231173</td>\n",
       "      <td>193821</td>\n",
       "      <td>324731.0</td>\n",
       "      <td>150933.0</td>\n",
       "      <td>NaN</td>\n",
       "    </tr>\n",
       "    <tr>\n",
       "      <th>mean</th>\n",
       "      <td>1.003029e+06</td>\n",
       "      <td>NaN</td>\n",
       "      <td>NaN</td>\n",
       "      <td>NaN</td>\n",
       "      <td>NaN</td>\n",
       "      <td>NaN</td>\n",
       "      <td>NaN</td>\n",
       "      <td>NaN</td>\n",
       "      <td>NaN</td>\n",
       "      <td>9263.968713</td>\n",
       "    </tr>\n",
       "    <tr>\n",
       "      <th>std</th>\n",
       "      <td>1.727592e+03</td>\n",
       "      <td>NaN</td>\n",
       "      <td>NaN</td>\n",
       "      <td>NaN</td>\n",
       "      <td>NaN</td>\n",
       "      <td>NaN</td>\n",
       "      <td>NaN</td>\n",
       "      <td>NaN</td>\n",
       "      <td>NaN</td>\n",
       "      <td>5023.065394</td>\n",
       "    </tr>\n",
       "    <tr>\n",
       "      <th>min</th>\n",
       "      <td>1.000001e+06</td>\n",
       "      <td>NaN</td>\n",
       "      <td>NaN</td>\n",
       "      <td>NaN</td>\n",
       "      <td>NaN</td>\n",
       "      <td>NaN</td>\n",
       "      <td>NaN</td>\n",
       "      <td>NaN</td>\n",
       "      <td>NaN</td>\n",
       "      <td>12.000000</td>\n",
       "    </tr>\n",
       "    <tr>\n",
       "      <th>25%</th>\n",
       "      <td>1.001516e+06</td>\n",
       "      <td>NaN</td>\n",
       "      <td>NaN</td>\n",
       "      <td>NaN</td>\n",
       "      <td>NaN</td>\n",
       "      <td>NaN</td>\n",
       "      <td>NaN</td>\n",
       "      <td>NaN</td>\n",
       "      <td>NaN</td>\n",
       "      <td>5823.000000</td>\n",
       "    </tr>\n",
       "    <tr>\n",
       "      <th>50%</th>\n",
       "      <td>1.003077e+06</td>\n",
       "      <td>NaN</td>\n",
       "      <td>NaN</td>\n",
       "      <td>NaN</td>\n",
       "      <td>NaN</td>\n",
       "      <td>NaN</td>\n",
       "      <td>NaN</td>\n",
       "      <td>NaN</td>\n",
       "      <td>NaN</td>\n",
       "      <td>8047.000000</td>\n",
       "    </tr>\n",
       "    <tr>\n",
       "      <th>75%</th>\n",
       "      <td>1.004478e+06</td>\n",
       "      <td>NaN</td>\n",
       "      <td>NaN</td>\n",
       "      <td>NaN</td>\n",
       "      <td>NaN</td>\n",
       "      <td>NaN</td>\n",
       "      <td>NaN</td>\n",
       "      <td>NaN</td>\n",
       "      <td>NaN</td>\n",
       "      <td>12054.000000</td>\n",
       "    </tr>\n",
       "    <tr>\n",
       "      <th>max</th>\n",
       "      <td>1.006040e+06</td>\n",
       "      <td>NaN</td>\n",
       "      <td>NaN</td>\n",
       "      <td>NaN</td>\n",
       "      <td>NaN</td>\n",
       "      <td>NaN</td>\n",
       "      <td>NaN</td>\n",
       "      <td>NaN</td>\n",
       "      <td>NaN</td>\n",
       "      <td>23961.000000</td>\n",
       "    </tr>\n",
       "  </tbody>\n",
       "</table>\n",
       "</div>"
      ],
      "text/plain": [
       "             User_ID Product_ID  Gender     Age  Occupation City_Category  \\\n",
       "count   5.500680e+05     550068  550068  550068    550068.0        550068   \n",
       "unique           NaN       3631       2       7        21.0             3   \n",
       "top              NaN  P00265242       M   26-35         4.0             B   \n",
       "freq             NaN       1880  414259  219587     72308.0        231173   \n",
       "mean    1.003029e+06        NaN     NaN     NaN         NaN           NaN   \n",
       "std     1.727592e+03        NaN     NaN     NaN         NaN           NaN   \n",
       "min     1.000001e+06        NaN     NaN     NaN         NaN           NaN   \n",
       "25%     1.001516e+06        NaN     NaN     NaN         NaN           NaN   \n",
       "50%     1.003077e+06        NaN     NaN     NaN         NaN           NaN   \n",
       "75%     1.004478e+06        NaN     NaN     NaN         NaN           NaN   \n",
       "max     1.006040e+06        NaN     NaN     NaN         NaN           NaN   \n",
       "\n",
       "       Stay_In_Current_City_Years  Marital_Status  Product_Category  \\\n",
       "count                      550068        550068.0          550068.0   \n",
       "unique                          5             2.0              20.0   \n",
       "top                             1             0.0               5.0   \n",
       "freq                       193821        324731.0          150933.0   \n",
       "mean                          NaN             NaN               NaN   \n",
       "std                           NaN             NaN               NaN   \n",
       "min                           NaN             NaN               NaN   \n",
       "25%                           NaN             NaN               NaN   \n",
       "50%                           NaN             NaN               NaN   \n",
       "75%                           NaN             NaN               NaN   \n",
       "max                           NaN             NaN               NaN   \n",
       "\n",
       "             Purchase  \n",
       "count   550068.000000  \n",
       "unique            NaN  \n",
       "top               NaN  \n",
       "freq              NaN  \n",
       "mean      9263.968713  \n",
       "std       5023.065394  \n",
       "min         12.000000  \n",
       "25%       5823.000000  \n",
       "50%       8047.000000  \n",
       "75%      12054.000000  \n",
       "max      23961.000000  "
      ]
     },
     "execution_count": 7,
     "metadata": {},
     "output_type": "execute_result"
    }
   ],
   "source": [
    "df.describe(include=\"all\")"
   ]
  },
  {
   "cell_type": "markdown",
   "id": "05298781",
   "metadata": {},
   "source": [
    "# Observation from above table:\n",
    "1) The top people purchasing are in the age range of 26–35.\n",
    "2) Males are top in purchasing\n",
    "3) The average purchase is 9263.96 and the maximum purchase is 23961, so the average value is sensitive to outliers,\n",
    "   but the fact that the mean is so small compared to the maximum value indicates the maximum value is an outlier."
   ]
  },
  {
   "cell_type": "markdown",
   "id": "75799192",
   "metadata": {},
   "source": [
    "# Non-Graphical Analysis: Value counts and unique attributes"
   ]
  },
  {
   "cell_type": "markdown",
   "id": "7c88a35b",
   "metadata": {},
   "source": [
    "Value Counts:"
   ]
  },
  {
   "cell_type": "code",
   "execution_count": 8,
   "id": "4ba77add",
   "metadata": {},
   "outputs": [
    {
     "name": "stdout",
     "output_type": "stream",
     "text": [
      "Gender count : \n",
      "M    414259\n",
      "F    135809\n",
      "Name: Gender, dtype: int64 \n",
      "Gender percentage : \n",
      "M    75.310507\n",
      "F    24.689493\n",
      "Name: Gender, dtype: float64\n"
     ]
    }
   ],
   "source": [
    "gender_counts = df['Gender'].value_counts()\n",
    "percentage_gender_counts = (gender_counts / len(df)) * 100\n",
    "print(f\"Gender count : \\n{gender_counts} \\nGender percentage : \\n{percentage_gender_counts}\")"
   ]
  },
  {
   "cell_type": "code",
   "execution_count": 9,
   "id": "b409141c",
   "metadata": {},
   "outputs": [
    {
     "name": "stdout",
     "output_type": "stream",
     "text": [
      "Age count : \n",
      "26-35    219587\n",
      "36-45    110013\n",
      "18-25     99660\n",
      "46-50     45701\n",
      "51-55     38501\n",
      "55+       21504\n",
      "0-17      15102\n",
      "Name: Age, dtype: int64 \n",
      "Age percentage : \n",
      "26-35    39.919974\n",
      "36-45    19.999891\n",
      "18-25    18.117760\n",
      "46-50     8.308246\n",
      "51-55     6.999316\n",
      "55+       3.909335\n",
      "0-17      2.745479\n",
      "Name: Age, dtype: float64\n"
     ]
    }
   ],
   "source": [
    "Age_counts = df['Age'].value_counts()\n",
    "percentage_Age_counts = (Age_counts / len(df)) * 100\n",
    "print(f\"Age count : \\n{Age_counts} \\nAge percentage : \\n{percentage_Age_counts}\")"
   ]
  },
  {
   "cell_type": "code",
   "execution_count": 10,
   "id": "7c39f0d8",
   "metadata": {},
   "outputs": [
    {
     "name": "stdout",
     "output_type": "stream",
     "text": [
      "Stay_In_Current_City_Years count : \n",
      "1     193821\n",
      "2     101838\n",
      "3      95285\n",
      "4+     84726\n",
      "0      74398\n",
      "Name: Stay_In_Current_City_Years, dtype: int64 \n",
      "Stay_In_Current_City_Years percentage : \n",
      "1     35.235825\n",
      "2     18.513711\n",
      "3     17.322404\n",
      "4+    15.402823\n",
      "0     13.525237\n",
      "Name: Stay_In_Current_City_Years, dtype: float64\n"
     ]
    }
   ],
   "source": [
    "Stay_In_Current_City_Years_counts = df['Stay_In_Current_City_Years'].value_counts()\n",
    "percentage_Stay_In_Current_City_Years_counts = (Stay_In_Current_City_Years_counts / len(df)) * 100\n",
    "print(f\"Stay_In_Current_City_Years count : \\n{Stay_In_Current_City_Years_counts}\n",
    "\\nStay_In_Current_City_Years percentage : \\n{percentage_Stay_In_Current_City_Years_counts}\")"
   ]
  },
  {
   "cell_type": "code",
   "execution_count": 11,
   "id": "e098eb78",
   "metadata": {},
   "outputs": [
    {
     "name": "stdout",
     "output_type": "stream",
     "text": [
      "Marital_Status count : \n",
      "0    324731\n",
      "1    225337\n",
      "Name: Marital_Status, dtype: int64 \n",
      "Marital_Status percentage : \n",
      "0    59.034701\n",
      "1    40.965299\n",
      "Name: Marital_Status, dtype: float64\n"
     ]
    }
   ],
   "source": [
    "Marital_Status_counts = df['Marital_Status'].value_counts()\n",
    "percentage_Marital_Status_counts = (Marital_Status_counts / len(df)) * 100\n",
    "print(f\"Marital_Status count : \\n{Marital_Status_counts} \\nMarital_Status percentage : \n",
    "\\n{percentage_Marital_Status_counts}\")"
   ]
  },
  {
   "cell_type": "markdown",
   "id": "4783b541",
   "metadata": {},
   "source": [
    "# Insights :\n",
    "1) 75% of users are male and 25% are female.\n",
    "2) Users ages 26–35 are 40%, users ages 36–45 are 20%, users ages 18–25 are 18%, \n",
    "   and very low users ages ( 0–17 & 55+ )are 5%.\n",
    "3) 35% stay in a city for 1 year, 18% stay in a city for 2 years, 17% stay in a city for 3 years, \n",
    "   and 15% stay in a city for 4+ years.\n",
    "4) 60% of users are single, and 40% are married."
   ]
  },
  {
   "cell_type": "markdown",
   "id": "f849d5a4",
   "metadata": {},
   "source": [
    "Unique attributes :"
   ]
  },
  {
   "cell_type": "code",
   "execution_count": 12,
   "id": "f40c6e78",
   "metadata": {},
   "outputs": [
    {
     "name": "stdout",
     "output_type": "stream",
     "text": [
      "Unique Product_Category count: 20\n"
     ]
    }
   ],
   "source": [
    "unique_category_count = df['Product_Category'].nunique()\n",
    "print('Unique Product_Category count:',unique_category_count)"
   ]
  },
  {
   "cell_type": "code",
   "execution_count": 13,
   "id": "87489422",
   "metadata": {},
   "outputs": [
    {
     "name": "stdout",
     "output_type": "stream",
     "text": [
      "Unique City_Category count: 3\n"
     ]
    }
   ],
   "source": [
    "unique_City_Category_count = df['City_Category'].nunique()\n",
    "print('Unique City_Category count:',unique_City_Category_count)"
   ]
  },
  {
   "cell_type": "code",
   "execution_count": 14,
   "id": "a6a0e284",
   "metadata": {},
   "outputs": [
    {
     "name": "stdout",
     "output_type": "stream",
     "text": [
      "Unique Product_ID count: 3631\n"
     ]
    }
   ],
   "source": [
    "unique_Product_ID_count = df['Product_ID'].nunique()\n",
    "print('Unique Product_ID count:',unique_Product_ID_count)"
   ]
  },
  {
   "cell_type": "code",
   "execution_count": 15,
   "id": "4795c92f",
   "metadata": {},
   "outputs": [
    {
     "name": "stdout",
     "output_type": "stream",
     "text": [
      "Unique User_ID count: 5891\n"
     ]
    }
   ],
   "source": [
    "unique_User_ID_count = df['User_ID'].nunique()\n",
    "print('Unique User_ID count:',unique_User_ID_count)"
   ]
  },
  {
   "cell_type": "markdown",
   "id": "d01ee4ec",
   "metadata": {},
   "source": [
    "# Insights :\n",
    "1) The total product category count is 20 unique products.\n",
    "2) The total number of unique city categories is three.\n",
    "3) The total number of unique product IDs is 3631.\n",
    "4) The total number of unique user IDs is 5891"
   ]
  },
  {
   "cell_type": "markdown",
   "id": "e20e7a16",
   "metadata": {},
   "source": [
    "# Visual Analysis - Univariate & Bivariate"
   ]
  },
  {
   "cell_type": "markdown",
   "id": "38eed771",
   "metadata": {},
   "source": [
    "# Univariate"
   ]
  },
  {
   "cell_type": "code",
   "execution_count": 16,
   "id": "6574a0be",
   "metadata": {},
   "outputs": [
    {
     "data": {
      "image/png": "[encoded data removed]",
      "text/plain": [
       "<Figure size 1440x720 with 1 Axes>"
      ]
     },
     "metadata": {
      "needs_background": "light"
     },
     "output_type": "display_data"
    }
   ],
   "source": [
    "plt.figure(figsize=(20,10))\n",
    "sns.histplot(data=df, x='Purchase', kde=True)\n",
    "plt.show()"
   ]
  },
  {
   "cell_type": "code",
   "execution_count": 17,
   "id": "7ffc465e",
   "metadata": {},
   "outputs": [
    {
     "data": {
      "image/png": "[encoded data removed]",
      "text/plain": [
       "<Figure size 1080x720 with 4 Axes>"
      ]
     },
     "metadata": {
      "needs_background": "light"
     },
     "output_type": "display_data"
    }
   ],
   "source": [
    "fig, axis = plt.subplots(nrows=2, ncols=2, figsize=(15,10))\n",
    "sns.histplot(data=df, x='Gender', ax=axis[0,0],color = \"orange\")\n",
    "sns.histplot(data=df, x='City_Category', ax=axis[0,1],color = \"green\")\n",
    "sns.histplot(data=df, x='Occupation', ax=axis[1,0])\n",
    "sns.histplot(data=df, x='Marital_Status',ax=axis[1,1],color = \"grey\")\n",
    "plt.show()"
   ]
  },
  {
   "cell_type": "code",
   "execution_count": 18,
   "id": "c0a7c198",
   "metadata": {},
   "outputs": [
    {
     "data": {
      "image/png": "[encoded data removed]",
      "text/plain": [
       "<Figure size 1080x576 with 1 Axes>"
      ]
     },
     "metadata": {
      "needs_background": "light"
     },
     "output_type": "display_data"
    }
   ],
   "source": [
    "plt.figure(figsize=(10, 8))\n",
    "sns.countplot(data=df, x='Product_Category', order=df['Product_Category'].value_counts().index)\n",
    "plt.xlabel('Product Category')\n",
    "plt.ylabel('Count')\n",
    "plt.title('Count of Each Product Category')\n",
    "for p in plt.gca().patches:\n",
    "    plt.gca().annotate(f'{p.get_height()}', (p.get_x() + p.get_width() / 2., p.get_height()), \n",
    "    ha='right', va='center', fontsize=8, color='black', xytext=(0, 10), textcoords='offset points')\n",
    "plt.show()"
   ]
  },
  {
   "cell_type": "markdown",
   "id": "a8795ad7",
   "metadata": {},
   "source": [
    "# Insights:\n",
    "1) The product categories 5, 1, and 8 have the highest purchase.\n",
    "2) Male purchasing power outnumbers female purchasing power.\n",
    "3) More users below in the B city region\n",
    "4) Max users are single.\n",
    "5) The maximum purchase ranges from 5000 to 15000."
   ]
  },
  {
   "cell_type": "markdown",
   "id": "d7299c7d",
   "metadata": {},
   "source": [
    "# Outliers detection using BoxPlots:"
   ]
  },
  {
   "cell_type": "code",
   "execution_count": 19,
   "id": "57bbff90",
   "metadata": {},
   "outputs": [
    {
     "data": {
      "image/png": "[encoded data removed]",
      "text/plain": [
       "<Figure size 1080x144 with 3 Axes>"
      ]
     },
     "metadata": {
      "needs_background": "light"
     },
     "output_type": "display_data"
    }
   ],
   "source": [
    "fig, axis = plt.subplots(nrows=1, ncols=3, figsize=(15,2))\n",
    "fig.subplots_adjust(top=2)\n",
    "sns.boxplot(data=df, x='Purchase', ax=axis[0],color = \"orange\")\n",
    "sns.boxplot(data=df, x='Occupation', ax=axis[1],color = \"blue\")\n",
    "sns.boxplot(data=df, x='Product_Category', ax=axis[2],color = \"magenta\")\n",
    "plt.show()"
   ]
  },
  {
   "cell_type": "markdown",
   "id": "d88c7637",
   "metadata": {},
   "source": [
    "# Insights:\n",
    "1) Purchases have outliers.\n",
    "2) The occupation does not have any outliers.\n",
    "3) Product categories have some outliers, but most of the products are purchased in the range 1 to 8."
   ]
  },
  {
   "cell_type": "markdown",
   "id": "cdfc194e",
   "metadata": {},
   "source": [
    "# Using pie chart:"
   ]
  },
  {
   "cell_type": "code",
   "execution_count": 20,
   "id": "00280a3c",
   "metadata": {},
   "outputs": [
    {
     "data": {
      "image/png": "[encoded data removed]",
      "text/plain": [
       "<Figure size 864x576 with 2 Axes>"
      ]
     },
     "metadata": {},
     "output_type": "display_data"
    }
   ],
   "source": [
    "unique_colors_age = sns.color_palette(\"light:#5A9\", len(df['Age'].unique()))\n",
    "unique_colors_city_years = sns.color_palette(\"Spectral\", len(df['Stay_In_Current_City_Years'].unique()))\n",
    "\n",
    "fig, axs = plt.subplots(nrows=1, ncols=2, figsize=(12, 8))\n",
    "\n",
    "data_age = df['Age'].value_counts(normalize=True) * 100\n",
    "axs[0].pie(x=data_age.values, labels=data_age.index, autopct='%.0f%%', colors=unique_colors_age)\n",
    "axs[0].set_title(\"Age\")\n",
    "\n",
    "data_city_years = df['Stay_In_Current_City_Years'].value_counts(normalize=True) * 100\n",
    "axs[1].pie(x=data_city_years.values, labels=data_city_years.index, autopct='%.0f%%', colors=unique_colors_city_years)\n",
    "axs[1].set_title(\"Stay_In_Current_City_Years\")\n",
    "plt.show()"
   ]
  },
  {
   "cell_type": "markdown",
   "id": "4b1f2792",
   "metadata": {},
   "source": [
    "# Insights :\n",
    "1) Users ages 26–35 are 40%, users ages 36–45 are 20%, users ages 18–25 are 18%, users ages 46–50 are 8%, \n",
    "   users ages 51–55 are 7%, users ages 55+ are 4%, and very low users ages 0–17 are 2%.\n",
    "2) 35% stay in a city for 1 year, 19% stay in a city for 2 years, 17% stay in a city for 3 years, \n",
    "   and 15% stay in a city for 4+ years."
   ]
  },
  {
   "cell_type": "markdown",
   "id": "e18ef476",
   "metadata": {},
   "source": [
    "# Bivariate Analysis:"
   ]
  },
  {
   "cell_type": "markdown",
   "id": "b47f3d6b",
   "metadata": {},
   "source": [
    "Analyzing the variation in purchases with the following,\n",
    "\n",
    "1. Gender vs Purchase\n",
    "2. Martial_Status vs Purchase\n",
    "3. Age vs Purchase\n",
    "4. City_Category vs Purchase"
   ]
  },
  {
   "cell_type": "code",
   "execution_count": 21,
   "id": "58118d53",
   "metadata": {},
   "outputs": [
    {
     "data": {
      "image/png": "[encoded data removed]",
      "text/plain": [
       "<Figure size 2160x1440 with 4 Axes>"
      ]
     },
     "metadata": {
      "needs_background": "light"
     },
     "output_type": "display_data"
    }
   ],
   "source": [
    "fig1, axs=plt.subplots(nrows=2,ncols=2, figsize=(30,20))\n",
    "\n",
    "sns.boxplot(data=df, y='Gender',x ='Purchase',orient='h',ax=axs[0,0])\n",
    "axs[0,0].set_title(\"Gender vs Purchase\", fontsize=16)\n",
    "axs[0,0].set_xlabel(\"Purchase\", fontsize=16)  \n",
    "axs[0,0].set_ylabel(\"Gender\", fontsize=16)\n",
    "\n",
    "sns.boxplot(data=df, y='Marital_Status',x ='Purchase',orient='h',ax=axs[0,1])\n",
    "axs[0,1].set_title(\"Marital_Status vs Purchase\", fontsize=16)\n",
    "axs[0,1].set_xlabel(\"Purchase\", fontsize=16)  \n",
    "axs[0,1].set_ylabel(\"Marital_Status\", fontsize=16)\n",
    "\n",
    "sns.boxplot(data=df, y='Age',x ='Purchase',orient='h',ax=axs[1,0])\n",
    "axs[1,0].set_title(\"Age vs Purchase\", fontsize=16)\n",
    "axs[1,0].set_xlabel(\"Purchase\", fontsize=16)  \n",
    "axs[1,0].set_ylabel(\"Age\", fontsize=16) \n",
    "\n",
    "sns.boxplot(data=df, y='City_Category',x ='Purchase',orient='h',ax=axs[1,1])\n",
    "axs[1,1].set_title(\"City_Category vs Purchase\", fontsize=16)\n",
    "axs[1,1].set_xlabel(\"Purchase\", fontsize=16)  \n",
    "axs[1,1].set_ylabel(\"City_Category\", fontsize=16) \n",
    "plt.show()"
   ]
  },
  {
   "cell_type": "markdown",
   "id": "7f94164f",
   "metadata": {},
   "source": [
    "# insight\n",
    "1) Gender vs. Purchase\n",
    "   a) The median for males and females is almost equal.\n",
    "   b) Females have more outliers compared to males.\n",
    "   c) Males purchased more compared to females.\n",
    "2) Martial Status vs. Purchase\n",
    "   a) The median for married and single people is almost equal.\n",
    "   b) Outliers are present in both records.\n",
    "3) Age vs. Purchase\n",
    "   a) The median for all age groups is almost equal.\n",
    "   b) Outliers are present in all age groups.\n",
    "4) City Category vs. Purchase\n",
    "   a) The C city region has very low outliers compared to other cities.\n",
    "   b) A and B city region medians are almost the same."
   ]
  },
  {
   "cell_type": "markdown",
   "id": "13a9f5b2",
   "metadata": {},
   "source": [
    "# Using pandas quantile funtion detecting number of outliers from purchase"
   ]
  },
  {
   "cell_type": "code",
   "execution_count": 22,
   "id": "72130ad5",
   "metadata": {},
   "outputs": [
    {
     "name": "stdout",
     "output_type": "stream",
     "text": [
      "number of outliers: 2677\n",
      "max outlier value:23961\n",
      "min outlier value: 21401\n"
     ]
    }
   ],
   "source": [
    "q1 = df[\"Purchase\"].quantile(0.25)\n",
    "q3 = df[\"Purchase\"].quantile(0.75)\n",
    "IQR = q3-q1\n",
    "outliers = df[\"Purchase\"][((df[\"Purchase\"]<(q1-1.5*IQR)) | (df[\"Purchase\"]>(q3+1.5*IQR)))]\n",
    "print(\"number of outliers: \"+ str(len(outliers)))\n",
    "print(\"max outlier value:\"+ str(outliers.max()))\n",
    "print(\"min outlier value: \"+ str(outliers.min()))"
   ]
  },
  {
   "cell_type": "markdown",
   "id": "736355dc",
   "metadata": {},
   "source": [
    "# Are women spending more money per transaction than men? Why or Why not?"
   ]
  },
  {
   "cell_type": "code",
   "execution_count": 23,
   "id": "218b9509",
   "metadata": {},
   "outputs": [
    {
     "name": "stdout",
     "output_type": "stream",
     "text": [
      "Average purchase of male and female : \n",
      "Gender\n",
      "F    8734.565765\n",
      "M    9437.526040\n",
      "Name: Purchase, dtype: float64\n"
     ]
    }
   ],
   "source": [
    "avg_by_gender = df.groupby('Gender')['Purchase'].mean()\n",
    "print(f'Average purchase of male and female : \\n{avg_by_gender}')"
   ]
  },
  {
   "cell_type": "code",
   "execution_count": 24,
   "id": "58f31bd5",
   "metadata": {},
   "outputs": [
    {
     "name": "stdout",
     "output_type": "stream",
     "text": [
      "Top 10 purchase from male and female\n",
      "      User_ID Gender Purchase              \n",
      "                          sum          mean\n",
      "5890  1006040      M  1653299   9184.994444\n",
      "5889  1006039      F   590319   7977.283784\n",
      "5888  1006038      F    90034   7502.833333\n",
      "5887  1006037      F  1119538   9176.540984\n",
      "5886  1006036      F  4116058   8007.894942\n",
      "5885  1006035      F   956645   6293.717105\n",
      "5884  1006034      M   197086  16423.833333\n",
      "5883  1006033      M   501843  13940.083333\n",
      "5882  1006032      M   517261   9404.745455\n",
      "5881  1006031      F   286374   9237.870968\n"
     ]
    }
   ],
   "source": [
    "agg_df = df.groupby(['User_ID', 'Gender'])[['Purchase']].agg({'Purchase': ['sum', 'mean']})\n",
    "agg_df = agg_df.reset_index()\n",
    "agg_df = agg_df.sort_values(by='User_ID', ascending=False)\n",
    "\n",
    "print(f\"Top 10 purchase from male and female\\n{agg_df.head(10)}\")"
   ]
  },
  {
   "cell_type": "code",
   "execution_count": 25,
   "id": "1baa041a",
   "metadata": {},
   "outputs": [
    {
     "name": "stdout",
     "output_type": "stream",
     "text": [
      "Each gender wise count : \n",
      "M    4225\n",
      "F    1666\n",
      "Name: Gender, dtype: int64\n"
     ]
    }
   ],
   "source": [
    "Gender_wise_count=agg_df['Gender'].value_counts()\n",
    "print(f'Each gender wise count : \\n{Gender_wise_count}')"
   ]
  },
  {
   "cell_type": "code",
   "execution_count": 26,
   "id": "fe3c6513",
   "metadata": {},
   "outputs": [
    {
     "data": {
      "image/png": "[encoded data removed]",
      "text/plain": [
       "<Figure size 432x288 with 1 Axes>"
      ]
     },
     "metadata": {
      "needs_background": "light"
     },
     "output_type": "display_data"
    },
    {
     "data": {
      "image/png": "[encoded data removed]",
      "text/plain": [
       "<Figure size 432x288 with 1 Axes>"
      ]
     },
     "metadata": {
      "needs_background": "light"
     },
     "output_type": "display_data"
    }
   ],
   "source": [
    "sum_by_gender = df.groupby(['User_ID', 'Gender'])['Purchase'].sum()\n",
    "sum_by_gender = sum_by_gender.reset_index()\n",
    "sum_by_gender = sum_by_gender.sort_values(by='User_ID', ascending=False)\n",
    "\n",
    "# MALE data representation through a histogram\n",
    "male_data = sum_by_gender[sum_by_gender['Gender']=='M']['Purchase']\n",
    "plt.hist(male_data, bins=40)\n",
    "plt.ylabel('Purchase')\n",
    "plt.xlabel('Frequency')\n",
    "plt.title('Histogram of Purchase for Males')\n",
    "plt.show()\n",
    "\n",
    "# FEMALE data representation through a histogram\n",
    "Female_data = sum_by_gender[sum_by_gender['Gender']=='F']['Purchase']\n",
    "plt.hist(Female_data, bins=40)\n",
    "plt.ylabel('Purchase')\n",
    "plt.xlabel('Frequency')\n",
    "plt.title('Histogram of Purchase for Females')\n",
    "plt.show()"
   ]
  },
  {
   "cell_type": "code",
   "execution_count": 27,
   "id": "82706586",
   "metadata": {},
   "outputs": [
    {
     "name": "stdout",
     "output_type": "stream",
     "text": [
      "Male customer average spent amount: 925344.4023668639\n",
      "Female customer average spent amount: 712024.3949579832\n"
     ]
    }
   ],
   "source": [
    "Mean_by_gender = df.groupby(['User_ID', 'Gender'])['Purchase'].sum()\n",
    "Mean_by_gender = Mean_by_gender.reset_index()\n",
    "Mean_by_gender = Mean_by_gender.sort_values(by='User_ID', ascending=False)\n",
    "Male_cust_avg = Mean_by_gender[Mean_by_gender['Gender']=='M']['Purchase'].mean()\n",
    "Female_cust_avg = Mean_by_gender[Mean_by_gender['Gender']=='F']['Purchase'].mean()\n",
    "print(f'Male customer average spent amount: {Male_cust_avg}')\n",
    "print(f'Female customer average spent amount: {Female_cust_avg}')"
   ]
  },
  {
   "cell_type": "markdown",
   "id": "f871045a",
   "metadata": {},
   "source": [
    "# insight\n",
    "1) Male customers spend more money than female customers.\n",
    "2) The highest purchase has been made from this user id: `1006040`, and the gender is male.\n",
    "3) Most of the females also purchase, but they don't spend a lot more."
   ]
  },
  {
   "cell_type": "markdown",
   "id": "3e348db0",
   "metadata": {},
   "source": [
    "# Confidence intervals and distribution of the mean of the expenses by female and male customers."
   ]
  },
  {
   "cell_type": "code",
   "execution_count": 28,
   "id": "99a3e1b8",
   "metadata": {},
   "outputs": [
    {
     "name": "stdout",
     "output_type": "stream",
     "text": [
      "Population mean: random male samples mean purchase value: 940672.2596666666\n",
      "Population mean: random Female samples mean purchase value : 701828.657\n",
      "Sample means of Male purchase : 925344.4\n",
      "Sample STD of Male purchase : 985830.1\n",
      "Sample means of Female purchase : 712024.39\n",
      "Sample STD of Female purchase : 807370.73\n"
     ]
    },
    {
     "data": {
      "image/png": "[encoded data removed]",
      "text/plain": [
       "<Figure size 1440x432 with 2 Axes>"
      ]
     },
     "metadata": {
      "needs_background": "light"
     },
     "output_type": "display_data"
    }
   ],
   "source": [
    "# filtering gender wise dataframe\n",
    "male_df = sum_by_gender[sum_by_gender['Gender']=='M']\n",
    "female_df = sum_by_gender[sum_by_gender['Gender']=='F']\n",
    "\n",
    "# Taking random sample size from dataframe\n",
    "male_sample_size = 3000\n",
    "female_sample_size = 1000\n",
    "num_repitions = 1000\n",
    "\n",
    "# Taking random sample from male and female dataframe\n",
    "random_sample_male = male_df.sample(n=male_sample_size)\n",
    "random_sample_female = female_df.sample(n=female_sample_size)\n",
    "\n",
    "# Taking mean value from random sample male and female dataframe\n",
    "male_means = random_sample_male['Purchase'].mean()\n",
    "print(f'Population mean: random male samples mean purchase value: {male_means}')\n",
    "female_means = random_sample_female['Purchase'].mean()\n",
    "print(f'Population mean: random Female samples mean purchase value : {female_means}')\n",
    "\n",
    "# Taking sample mean from filtered male dataframe\n",
    "Male_sample_mean = round(male_df['Purchase'].mean(),2)\n",
    "print(f'Sample means of Male purchase : {Male_sample_mean}')\n",
    "Male_std_value = round(male_df['Purchase'].std(),2)\n",
    "print(f'Sample STD of Male purchase : {Male_std_value}')\n",
    "\n",
    "# Taking sample mean from filtered female dataframe\n",
    "Female_sample_mean = round(female_df['Purchase'].mean(),2)\n",
    "print(f'Sample means of Female purchase : {Female_sample_mean}')\n",
    "Female_std_value = round(female_df['Purchase'].std(),2)\n",
    "print(f'Sample STD of Female purchase : {Female_std_value}')\n",
    "\n",
    "# taking blank list to creat histogram\n",
    "male_means1 = []\n",
    "female_means1 = []\n",
    "\n",
    "# using for loop to create again mean value for histogram\n",
    "for _ in range(num_repitions):\n",
    "    male_mean2 = male_df.sample(male_sample_size,replace=True)['Purchase'].mean()\n",
    "    female_mean2 = female_df.sample(female_sample_size,replace=True)['Purchase'].mean()\n",
    "    male_means1.append(male_mean2)\n",
    "    female_means1.append(female_mean2)\n",
    "    \n",
    "# making histogram to check visually distribution mean for male and female\n",
    "fig, axis = plt.subplots(nrows=1, ncols=2, figsize=(20, 6))\n",
    "axis[0].hist(male_means1, bins=35)\n",
    "axis[1].hist(female_means1, bins=35)\n",
    "axis[0].set_title(\"Male - Distribution of means, Sample size: 3000\")\n",
    "axis[1].set_title(\"Female - Distribution of means, Sample size: 1500\")\n",
    "plt.show()"
   ]
  },
  {
   "cell_type": "markdown",
   "id": "9ce1704f",
   "metadata": {},
   "source": [
    "# Insight \n",
    "1) The average amount spent by male customers is 925344.4.\n",
    "2) The average amount spent by female customers is 712024.39.\n",
    "3) Male customers have made more purchases than female customers."
   ]
  },
  {
   "cell_type": "markdown",
   "id": "0f4af1cf",
   "metadata": {},
   "source": [
    "# Are confidence intervals of average male and female spending overlapping? How can company leverage this conclusion to make changes or improvements?"
   ]
  },
  {
   "cell_type": "code",
   "execution_count": 29,
   "id": "e2ea75ec",
   "metadata": {},
   "outputs": [],
   "source": [
    "#sample size\n",
    "sample_size = 3000\n",
    "# Confidence level ( 95% confidence interval)\n",
    "confidence_level = 0.95\n",
    "# Calculate the margin of error using the z-distribution for male\n",
    "z_critical = stats.norm.ppf((1 + confidence_level) / 2)  \n",
    "margin_of_error = z_critical * (Male_std_value / np.sqrt(sample_size))\n",
    "# Calculate the margin of error using the z-distribution for female\n",
    "z_critical = stats.norm.ppf((1 + confidence_level) / 2)  \n",
    "margin_of_error = z_critical * (Female_std_value / np.sqrt(sample_size))"
   ]
  },
  {
   "cell_type": "code",
   "execution_count": 30,
   "id": "cb7a15c9",
   "metadata": {},
   "outputs": [
    {
     "name": "stdout",
     "output_type": "stream",
     "text": [
      "Confidence Interval 95% Male: (896453.5403615071, 954235.259638493)\n"
     ]
    },
    {
     "data": {
      "image/png": "[encoded data removed]",
      "text/plain": [
       "<Figure size 432x288 with 1 Axes>"
      ]
     },
     "metadata": {
      "needs_background": "light"
     },
     "output_type": "display_data"
    }
   ],
   "source": [
    "# Calculate the confidence interval for male and presenting it on the graph\n",
    "Male_confidence_interval = (Male_sample_mean - margin_of_error, Male_sample_mean + margin_of_error)\n",
    "print(\"Confidence Interval 95% Male:\", Male_confidence_interval)\n",
    "sns.kdeplot(Male_confidence_interval)\n",
    "plt.xlabel('Values')\n",
    "plt.ylabel('Density')\n",
    "plt.title('Kernel Density Estimate with Confidence Interval for Male')\n",
    "plt.show()"
   ]
  },
  {
   "cell_type": "code",
   "execution_count": 31,
   "id": "050956d1",
   "metadata": {},
   "outputs": [
    {
     "name": "stdout",
     "output_type": "stream",
     "text": [
      "Confidence Interval 95% Female: (683133.5303615071, 740915.2496384929)\n"
     ]
    },
    {
     "data": {
      "image/png": "[encoded data removed]",
      "text/plain": [
       "<Figure size 432x288 with 1 Axes>"
      ]
     },
     "metadata": {
      "needs_background": "light"
     },
     "output_type": "display_data"
    }
   ],
   "source": [
    "# Calculate the confidence interval for female and presenting it on the graph\n",
    "Female_confidence_interval = (Female_sample_mean - margin_of_error, Female_sample_mean + margin_of_error)\n",
    "print(\"Confidence Interval 95% Female:\", Female_confidence_interval)\n",
    "sns.kdeplot(Female_confidence_interval)\n",
    "plt.xlabel('Values')\n",
    "plt.ylabel('Density')\n",
    "plt.title('Kernel Density Estimate with Confidence Interval for Female')\n",
    "plt.show()"
   ]
  },
  {
   "cell_type": "markdown",
   "id": "bce04c27",
   "metadata": {},
   "source": [
    "# Insight \n",
    "1) With reference to the above data, at a 95% confidence interval:\n",
    "   a) The average amount spent by male customers will lie between 896453.54 and 954235.25.\n",
    "   b) The average amount spent by female customers will lie between 683133.53 and 740915.24.\n",
    "2) Confidence intervals for average male and female spending are not overlapping.\n",
    "3) With respect to the above data, company should target more male customers, as they spend a lot compared to females."
   ]
  },
  {
   "cell_type": "markdown",
   "id": "a1b14fa5",
   "metadata": {},
   "source": [
    "# Results when the same activity is performed for Married vs Unmarried "
   ]
  },
  {
   "cell_type": "code",
   "execution_count": 32,
   "id": "96c29edf",
   "metadata": {},
   "outputs": [
    {
     "name": "stdout",
     "output_type": "stream",
     "text": [
      "Married customer average spent amount: 843526.7966855295\n"
     ]
    }
   ],
   "source": [
    "sum_by_Marital_Status = df.groupby(['User_ID', 'Marital_Status'])['Purchase'].sum()\n",
    "sum_by_Marital_Status = sum_by_Marital_Status.reset_index()\n",
    "sum_by_Marital_Status = sum_by_Marital_Status.sort_values(by='User_ID', ascending=False)\n",
    "Married_cust_avg = sum_by_Marital_Status[sum_by_Marital_Status['Marital_Status']==1]['Purchase'].mean()\n",
    "print(f'Married customer average spent amount: {Married_cust_avg}')"
   ]
  },
  {
   "cell_type": "code",
   "execution_count": 33,
   "id": "973c5ea5",
   "metadata": {},
   "outputs": [
    {
     "name": "stdout",
     "output_type": "stream",
     "text": [
      "Unmarried customer average spent amount: 880575.7819724905\n"
     ]
    }
   ],
   "source": [
    "sum_by_Marital_Status = df.groupby(['User_ID', 'Marital_Status'])['Purchase'].sum()\n",
    "sum_by_Marital_Status = sum_by_Marital_Status.reset_index()\n",
    "sum_by_Marital_Status = sum_by_Marital_Status.sort_values(by='User_ID', ascending=False)\n",
    "Unmarried_cust_avg = sum_by_Marital_Status[sum_by_Marital_Status['Marital_Status']==0]['Purchase'].mean()\n",
    "print(f'Unmarried customer average spent amount: {Unmarried_cust_avg}')"
   ]
  },
  {
   "cell_type": "code",
   "execution_count": 34,
   "id": "302e985a",
   "metadata": {},
   "outputs": [
    {
     "name": "stdout",
     "output_type": "stream",
     "text": [
      "Population mean: random Unmarried samples mean purchase value: 890620.9993333333\n",
      "Population mean: random Married samples mean purchase value : 855949.9555\n",
      "Sample means of Unmarried purchase : 880575.78\n",
      "Sample STD of Unmarried purchase : 949436.25\n",
      "Sample means of Married purchase : 843526.8\n",
      "Sample STD of Married purchase : 935352.12\n"
     ]
    },
    {
     "data": {
      "image/png": "[encoded data removed]",
      "text/plain": [
       "<Figure size 1440x432 with 2 Axes>"
      ]
     },
     "metadata": {
      "needs_background": "light"
     },
     "output_type": "display_data"
    }
   ],
   "source": [
    "# filtering Marital Status wise dataframe\n",
    "Unmarried_df = sum_by_Marital_Status[sum_by_Marital_Status['Marital_Status']==0]\n",
    "Married_df = sum_by_Marital_Status[sum_by_Marital_Status['Marital_Status']==1]\n",
    "\n",
    "# Taking random sample size from dataframe\n",
    "Unmarried_sample_size = 3000\n",
    "Married_sample_size = 2000\n",
    "num_repitions = 1000\n",
    "\n",
    "# Taking random sample from unmarried and married dataframe\n",
    "random_sample_Unmarried = Unmarried_df.sample(n=Unmarried_sample_size)\n",
    "random_sample_Married = Married_df.sample(n=Married_sample_size)\n",
    "\n",
    "# Taking mean value from random sample unmarried and married dataframe\n",
    "Unmarried_means = random_sample_Unmarried['Purchase'].mean()\n",
    "print(f'Population mean: random Unmarried samples mean purchase value: {Unmarried_means}')\n",
    "Married_means = random_sample_Married['Purchase'].mean()\n",
    "print(f'Population mean: random Married samples mean purchase value : {Married_means}')\n",
    "\n",
    "# Taking sample mean from filtered unmarried dataframe\n",
    "Unmarried_sample_mean = round(Unmarried_df['Purchase'].mean(),2)\n",
    "print(f'Sample means of Unmarried purchase : {Unmarried_sample_mean}')\n",
    "Unmarried_std_value = round(Unmarried_df['Purchase'].std(),2)\n",
    "print(f'Sample STD of Unmarried purchase : {Unmarried_std_value}')\n",
    "\n",
    "# Taking sample mean from filtered Married dataframe\n",
    "Married_sample_mean = round(Married_df['Purchase'].mean(),2)\n",
    "print(f'Sample means of Married purchase : {Married_sample_mean}')\n",
    "Married_std_value = round(Married_df['Purchase'].std(),2)\n",
    "print(f'Sample STD of Married purchase : {Married_std_value}')\n",
    "\n",
    "# taking blank list to creat histogram\n",
    "Unmarried_means1 = []\n",
    "Married_means1 = []\n",
    "\n",
    "# using for loop to create again mean value for histogram\n",
    "for _ in range(num_repitions):\n",
    "    Unmarried_mean2 = Unmarried_df.sample(Unmarried_sample_size,replace=True)['Purchase'].mean()\n",
    "    Married_mean2 = Married_df.sample(Married_sample_size,replace=True)['Purchase'].mean()\n",
    "    Unmarried_means1.append(Unmarried_mean2)\n",
    "    Married_means1.append(Married_mean2)\n",
    "    \n",
    "# # making histogram to check visually distribution mean for Unmarried and Married\n",
    "fig, axis = plt.subplots(nrows=1, ncols=2, figsize=(20, 6))\n",
    "axis[0].hist(Unmarried_means1, bins=35)\n",
    "axis[1].hist(Married_means1, bins=35)\n",
    "axis[0].set_title(\"Unmarried - Distribution of means, Sample size: 3000\")\n",
    "axis[1].set_title(\"Married - Distribution of means, Sample size: 2000\")\n",
    "plt.show()"
   ]
  },
  {
   "cell_type": "markdown",
   "id": "bbd501fd",
   "metadata": {},
   "source": [
    "# Insight \n",
    "1) Unmarried customer average sent amount: 880575.7819724905\n",
    "2) Married customer average sent amount: 843526.7966855295\n",
    "3) Unmarried customers spend more than married customers."
   ]
  },
  {
   "cell_type": "code",
   "execution_count": 35,
   "id": "764b5781",
   "metadata": {},
   "outputs": [],
   "source": [
    "#sample size\n",
    "sample_size = 3000\n",
    "# Confidence level ( 95% confidence interval)\n",
    "confidence_level = 0.95\n",
    "# Calculate the margin of error using the z-distribution for male\n",
    "z_critical = stats.norm.ppf((1 + confidence_level) / 2)  # Z-score for the desired confidence level\n",
    "margin_of_error = z_critical * (Unmarried_std_value / np.sqrt(sample_size))\n",
    "# Calculate the margin of error using the z-distribution for female\n",
    "z_critical = stats.norm.ppf((1 + confidence_level) / 2)  # Z-score for the desired confidence level\n",
    "margin_of_error = z_critical * (Married_std_value / np.sqrt(sample_size))"
   ]
  },
  {
   "cell_type": "code",
   "execution_count": 36,
   "id": "bc79474b",
   "metadata": {},
   "outputs": [
    {
     "name": "stdout",
     "output_type": "stream",
     "text": [
      "Confidence Interval 95% Unmarried: (847105.2492916514, 914046.3107083486)\n"
     ]
    },
    {
     "data": {
      "image/png": "[encoded data removed]",
      "text/plain": [
       "<Figure size 432x288 with 1 Axes>"
      ]
     },
     "metadata": {
      "needs_background": "light"
     },
     "output_type": "display_data"
    }
   ],
   "source": [
    "# Calculate the confidence interval for Unmarried and presenting it on the graph\n",
    "Unmarried_confidence_interval = (Unmarried_sample_mean - margin_of_error, Unmarried_sample_mean + margin_of_error)\n",
    "print(\"Confidence Interval 95% Unmarried:\", Unmarried_confidence_interval)\n",
    "sns.kdeplot(Unmarried_confidence_interval)\n",
    "plt.xlabel('Values')\n",
    "plt.ylabel('Density')\n",
    "plt.title('Kernel Density Estimate with Confidence Interval for Unmarried')\n",
    "plt.show()"
   ]
  },
  {
   "cell_type": "code",
   "execution_count": 37,
   "id": "10364808",
   "metadata": {},
   "outputs": [
    {
     "name": "stdout",
     "output_type": "stream",
     "text": [
      "Confidence Interval 95% Married: (810056.2692916514, 876997.3307083487)\n"
     ]
    },
    {
     "data": {
      "image/png": "[encoded data removed]",
      "text/plain": [
       "<Figure size 432x288 with 1 Axes>"
      ]
     },
     "metadata": {
      "needs_background": "light"
     },
     "output_type": "display_data"
    }
   ],
   "source": [
    "# Calculate the confidence interval for female and presenting it on the graph\n",
    "Married_confidence_interval = (Married_sample_mean - margin_of_error, Married_sample_mean + margin_of_error)\n",
    "print(\"Confidence Interval 95% Married:\", Married_confidence_interval)\n",
    "sns.kdeplot(Married_confidence_interval)\n",
    "plt.xlabel('Values')\n",
    "plt.ylabel('Density')\n",
    "plt.title('Kernel Density Estimate with Confidence Interval for Married')\n",
    "plt.show()"
   ]
  },
  {
   "cell_type": "markdown",
   "id": "047c91a6",
   "metadata": {},
   "source": [
    "# Insight\n",
    "1) With reference to the above data, at a 95% confidence interval:\n",
    "   a) The average amount spent by an unmarried customer will lie \n",
    "      between 847105.2492916514 and 914046.3107083486.\n",
    "   b) The average amount spent by a married customer will lie \n",
    "      between 810056.2692916514 and 876997.3307083487.\n",
    "2) Confidence intervals for average unmarried and married spending are overlapping.\n",
    "3) With respect to the above data, company should target more unmarried customers, \n",
    "   as they spend a lot compared to married customers."
   ]
  },
  {
   "cell_type": "markdown",
   "id": "1846c91a",
   "metadata": {},
   "source": [
    "# Results when the same activity is performed for Age "
   ]
  },
  {
   "cell_type": "code",
   "execution_count": 38,
   "id": "68b27297",
   "metadata": {},
   "outputs": [
    {
     "name": "stdout",
     "output_type": "stream",
     "text": [
      "Age_0_17 average spent value, random mean value, std value and Confidence Interval:\n",
      "Age_0_17 customer average spent amount: 618867.8119266055\n",
      "Random Sample Mean : 618358.7898400004\n",
      "Sample Mean Std: 14368.343299029826\n",
      "Confidence Interval: (523139.3531843962, 713578.2264956046)\n",
      "\n",
      "Age_18_25 average spent value, random mean value, std value and Confidence Interval:\n",
      "Age_18_25 customer average spent amount: 854863.119738073\n",
      "Random Sample Mean : 854761.3700300002\n",
      "Sample Mean Std: 7193.287434740016\n",
      "Confidence Interval: (799726.2206564605, 909796.51940354)\n",
      "\n",
      "Age_26_35 average spent value, random mean value, std value and Confidence Interval:\n",
      "Age_26_35 customer average spent amount: 989659.3170969313\n",
      "Random Sample Mean : 989527.6692569997\n",
      "Sample Mean Std: 3750.7499687555382\n",
      "Confidence Interval: (944316.1929270764, 1034739.1455869231)\n",
      "\n",
      "Age_36_45 average spent value, random mean value, std value and Confidence Interval:\n",
      "Age_36_45 customer average spent amount: 879665.7103684661\n",
      "Random Sample Mean : 880314.8566119995\n",
      "Sample Mean Std: 11998.236807491938\n",
      "Confidence Interval: (819476.991799626, 941152.7214243729)\n",
      "\n",
      "Age_46_50 average spent value, random mean value, std value and Confidence Interval:\n",
      "Age_46_50 customer average spent amount: 792548.7815442561\n",
      "Random Sample Mean : 792392.6976059993\n",
      "Sample Mean Std: 9917.479741717976\n",
      "Confidence Interval: (710937.556307367, 873847.8389046316)\n",
      "\n",
      "Age_51_55 average spent value, random mean value, std value and Confidence Interval:\n",
      "Age_51_55 customer average spent amount: 763200.9230769231\n",
      "Random Sample Mean : 763931.235219999\n",
      "Sample Mean Std: 15800.997825594808\n",
      "Confidence Interval: (686285.0821510263, 841577.3882889716)\n",
      "\n",
      "Age_55+ average spent value, random mean value, std value and Confidence Interval:\n",
      "Age_55+ customer average spent amount: 539697.2446236559\n",
      "Random Sample Mean : 539564.9288566665\n",
      "Sample Mean Std: 15782.143625075865\n",
      "Confidence Interval: (469691.9002793791, 609437.957433954)\n",
      "\n"
     ]
    }
   ],
   "source": [
    "def calculate_age_group_means_and_confidence_intervals(df):\n",
    "    sum_by_age = df.groupby(['User_ID', 'Age'])['Purchase'].sum().reset_index()\n",
    "    sum_by_age = sum_by_age.sort_values(by='User_ID', ascending=False)\n",
    "    # Create dict and filtering data age group wise\n",
    "    age_groups = {\n",
    "        'Age_0_17': sum_by_age[sum_by_age['Age'] == '0-17'],\n",
    "        'Age_18_25': sum_by_age[sum_by_age['Age'] == '18-25'],\n",
    "        'Age_26_35': sum_by_age[sum_by_age['Age'] == '26-35'],\n",
    "        'Age_36_45': sum_by_age[sum_by_age['Age'] == '36-45'],\n",
    "        'Age_46_50': sum_by_age[sum_by_age['Age'] == '46-50'],\n",
    "        'Age_51_55': sum_by_age[sum_by_age['Age'] == '51-55'],\n",
    "        'Age_55+': sum_by_age[sum_by_age['Age'] == '55+']\n",
    "    }\n",
    "    # Define sample sizes and number of repetitions\n",
    "    sample_sizes = {\n",
    "        'Age_0_17': 200,\n",
    "        'Age_18_25': 1000,\n",
    "        'Age_26_35': 2000,\n",
    "        'Age_36_45': 1000,\n",
    "        'Age_46_50': 500,\n",
    "        'Age_51_55': 400,\n",
    "        'Age_55+': 300\n",
    "    }\n",
    "    num_repitions = 1000\n",
    "    # Create a dictionary to store results\n",
    "    results = {}\n",
    "    # Perform random sampling and calculate means for each age group\n",
    "    for age_group, age_df in age_groups.items():\n",
    "        sample_size = sample_sizes.get(age_group, 0)\n",
    "        sample_means = []\n",
    "        for _ in range(num_repitions):\n",
    "            random_sample = age_df.sample(n=sample_size)\n",
    "            sample_mean = random_sample['Purchase'].mean()\n",
    "            sample_means.append(sample_mean)\n",
    "        # Calculate the population mean, sample mean, and standard deviation\n",
    "        population_mean = age_df['Purchase'].mean()\n",
    "        sample_mean_mean = sum(sample_means) / len(sample_means)\n",
    "        sample_mean_std = pd.Series(sample_means).std()\n",
    "        # Calculate the confidence interval using the z-distribution\n",
    "        confidence_level = 0.95  # 95% confidence interval\n",
    "        z_critical = stats.norm.ppf((1 + confidence_level) / 2)  # Z-score for the desired confidence level\n",
    "        margin_of_error = z_critical * (age_df['Purchase'].std() / np.sqrt(sample_size))\n",
    "        lower_bound = sample_mean_mean - margin_of_error\n",
    "        upper_bound = sample_mean_mean + margin_of_error\n",
    "        results[age_group] = {\n",
    "            'Population Mean': population_mean,\n",
    "            'Sample Mean Mean': sample_mean_mean,\n",
    "            'Sample Mean Std': sample_mean_std,\n",
    "            'Confidence Interval': (lower_bound, upper_bound)\n",
    "        }\n",
    "    return results\n",
    "results = calculate_age_group_means_and_confidence_intervals(df)\n",
    "for age_group, metrics in results.items():\n",
    "    print(f'{age_group} average spent value, random mean value, std value and Confidence Interval:')\n",
    "    print(f'{age_group} customer average spent amount: {metrics[\"Population Mean\"]}')\n",
    "    print(f'Random Sample Mean : {metrics[\"Sample Mean Mean\"]}')\n",
    "    print(f'Sample Mean Std: {metrics[\"Sample Mean Std\"]}')\n",
    "    print(f'Confidence Interval: {metrics[\"Confidence Interval\"]}')\n",
    "    print()"
   ]
  },
  {
   "cell_type": "markdown",
   "id": "4056bc34",
   "metadata": {},
   "source": [
    "# Insight\n",
    "1) With reference to the above data, at a 95% confidence interval:\n",
    "\n",
    "   a) The highest average amount spent by 26- to 35-year-old customers will lie between 944419.9990 and 1034842.9516.\n",
    "   \n",
    "   b) The average amount spent by 36- to 45-year-old customers will lie between 819003.0902 and 940678.8198.\n",
    "   \n",
    "   c) The average amount spent by 18- to 25-year-old customers will lie between 799594.4375 and 909664.7362.\n",
    "   \n",
    "   d) The average amount spent by 46- to 50-year-old customers will lie between 711215.1004 and 874125.3830.\n",
    "   \n",
    "   e) The average amount spent by 51- to 55-year-old customers will lie between 685670.0292 and 840962.3353.\n",
    "   \n",
    "   f) The average amount spent by 55+ age group customers will lie between 470454.5225 and 610200.5797.\n",
    "   \n",
    "   g) The lowest average amount spent by 0 to 17-year-old customers will lie between 524534.4423 and 714973.3156.\n",
    "   \n",
    "2) From the above data, it is clear that the age group 26 to 35 spends more compared to other age categories.\n",
    "\n",
    "3) Age groups above 55 and below 0 to 17 spend very little compared to others.\n",
    "\n",
    "4) Confidence intervals for average 26- to 35-year-old and 36- to 45-year-old spending are not overlapping.\n",
    "\n",
    "5) With respect to the above data, the company should target the age category between 26 and 35, as they spend more money compared to others."
   ]
  },
  {
   "cell_type": "markdown",
   "id": "eb22ef57",
   "metadata": {},
   "source": [
    "# Recommendations"
   ]
  },
  {
   "cell_type": "markdown",
   "id": "03af0357",
   "metadata": {},
   "source": [
    "1) Men spend more money than women, so the company should focus on retaining male customers and getting more male customers.\n",
    "\n",
    "2) Product Category: 5, 1, and 8 have the highest purchasing frequency.\n",
    "   It means the products in these categories are liked more by customers.\n",
    "   The company can focus on selling more of these products.\n",
    "   \n",
    "3) Product Category: 11, 2, and 6, 3 have almost close competition in purchasing. \n",
    "   The company can focus on selling more of these products.\n",
    "   \n",
    "4) Unmarried customers spend more money compared to married customers. So the company should focus on retaining the unmarried customers and getting more unmarried customers.\n",
    "\n",
    "5) 86% of purchases are done by customers whose ages are between 18 and 45. So the company should focus on the acquisition of customers who are aged 18–45.\n",
    "\n",
    "6) Customers living in City_Category C spend more money than other customers living in B or A. Selling more products in City Category C will help the company increase sales."
   ]
  },
  {
   "cell_type": "code",
   "execution_count": null,
   "id": "e2fa5d89",
   "metadata": {},
   "outputs": [],
   "source": []
  }
 ],
 "metadata": {
  "kernelspec": {
   "display_name": "Python 3 (ipykernel)",
   "language": "python",
   "name": "python3"
  },
  "language_info": {
   "codemirror_mode": {
    "name": "ipython",
    "version": 3
   },
   "file_extension": ".py",
   "mimetype": "text/x-python",
   "name": "python",
   "nbconvert_exporter": "python",
   "pygments_lexer": "ipython3",
   "version": "3.10.5"
  }
 },
 "nbformat": 4,
 "nbformat_minor": 5
}
